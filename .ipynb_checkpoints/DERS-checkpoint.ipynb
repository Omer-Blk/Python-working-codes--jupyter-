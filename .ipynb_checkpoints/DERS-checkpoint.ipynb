{
 "cells": [
  {
   "cell_type": "code",
   "execution_count": null,
   "id": "9d448964-7691-44c8-8497-627f8a133e40",
   "metadata": {},
   "outputs": [],
   "source": [
    "x, y, z=\"öm\",\"er\",\"ba\"\n",
    "print(x)\n",
    "print(y)\n",
    "print(z)"
   ]
  },
  {
   "cell_type": "code",
   "execution_count": null,
   "id": "af53ff8c-5e10-478e-90cd-dbb713094cbf",
   "metadata": {},
   "outputs": [],
   "source": [
    "x=y=z=\"Orange\"\n",
    "print(x)\n",
    "print(y)\n",
    "print(z)"
   ]
  },
  {
   "cell_type": "code",
   "execution_count": null,
   "id": "784e1d34-9043-4662-8b3e-fa655f111c0d",
   "metadata": {},
   "outputs": [],
   "source": [
    "Meyveler=[\"elma\",\"muz\",\"kivi\"]\n",
    "x,z,y=Meyveler\n",
    "print(y,z,x)"
   ]
  },
  {
   "cell_type": "code",
   "execution_count": null,
   "id": "4a429277-1aa8-47ea-81cf-96f922b79d2b",
   "metadata": {},
   "outputs": [],
   "source": [
    "Meyveler=[\"elma\",\" muz \",\"kivi\"]\n",
    "x,z,y=Meyveler\n",
    "print(y + z + x)"
   ]
  },
  {
   "cell_type": "code",
   "execution_count": null,
   "id": "f7039c1c-62d6-47e5-8db6-8c57fd71521a",
   "metadata": {},
   "outputs": [],
   "source": [
    "MeyvelerVeSayılar=[\"elma=\",5,\"kivi=\",12]\n",
    "\n",
    "def main():\n",
    "    MeyvelerVeSayılar=[\"elma=\",5,\"kivi=\",12]\n",
    "\n",
    "\n",
    "while True:\n",
    "    yükselt=input(\"Listedeki sayıyı yükseltmek içi'z',Çıkmak için'x'ye basın: \")\n",
    "    print(\"Mevcut Sayı :\" ,MeyvelerVeSayılar[\"elma=\",5,\"kivi=\",12])\n",
    "\n",
    "    if yükselt =='z':\n",
    "        MeyvelerVeSayılar[1]+=1\n",
    "        MeyvelerVeSayılar.append(MeyvelerVeSayılar[1]+=1)\n",
    "    elif yükselt == 'x':\n",
    "        print(\"Program kapatılıyor...\")\n",
    "        break\n",
    "    else:\n",
    "        print(\"Geçersiz giriş! Lütfen 'z' veya 'x' tuşuna basın.\")  \n",
    "\n",
    "print(\"Yükseltilmiş liste:\")\n",
    "    print_list(MeyvelerVeSayılar=[])\n",
    "\n",
    "if __name__ == \"__main__\":\n",
    "    main()"
   ]
  },
  {
   "cell_type": "code",
   "execution_count": null,
   "id": "9ec9aaab-addb-4c7e-8a17-a744c2fd0d46",
   "metadata": {},
   "outputs": [],
   "source": [
    "def print_list(your_list):\n",
    "    for item in your_list:\n",
    "        print(item, end=\" \")\n",
    "\n",
    "def main():\n",
    "    MeyvelerVeSayılar = [\"elma=\", 5, \"kivi=\", 12]\n",
    "\n",
    "    while True:\n",
    "        yukselt = input(\"Listedeki sayıyı yükseltmek için 'z', Çıkmak için 'x' tuşuna basın: \")\n",
    "        print(\"Mevcut Sayılar:\", end=\" \")\n",
    "        print_list(MeyvelerVeSayılar)\n",
    "\n",
    "        if yukselt == 'z':\n",
    "            MeyvelerVeSayılar[1] += 1\n",
    "            MeyvelerVeSayılar[3] += 1\n",
    "        elif yukselt == 'x':\n",
    "            print(\"\\nProgram kapatılıyor...\")\n",
    "            break\n",
    "        else:\n",
    "            print(\"\\nGeçersiz giriş! Lütfen 'z' veya 'x' tuşuna basın.\")\n",
    "\n",
    "if __name__ == \"__main__\":\n",
    "    main()"
   ]
  },
  {
   "cell_type": "code",
   "execution_count": null,
   "id": "766a8946-96e0-488a-b17a-74ff67f90af1",
   "metadata": {},
   "outputs": [],
   "source": [
    "x=\"Merhaba \"\n",
    "y=\"Ben Ömer\"\n",
    "\n",
    "def birleştirme():\n",
    "    print(x+y)\n",
    "\n",
    "birleştirme()"
   ]
  },
  {
   "cell_type": "code",
   "execution_count": null,
   "id": "c755db82-d29c-4ad6-9c59-3f759566cb49",
   "metadata": {},
   "outputs": [],
   "source": [
    "def bl2():\n",
    "    global x\n",
    "    x=\"mükemmel\"\n",
    "\n",
    "bl2()\n",
    "\n",
    "print(\"Python\",x)"
   ]
  },
  {
   "cell_type": "code",
   "execution_count": null,
   "id": "2ee1e0f8-0ae1-47de-8e39-7199d4e5b93f",
   "metadata": {},
   "outputs": [],
   "source": [
    "a=\"\"\"Merhaba adım ömer\n",
    "pythonda temel bilgileri \n",
    "öğrenmeye çalışıyorum\n",
    "kısıtlı sürede\n",
    "\"\"\"\n",
    "print(a)"
   ]
  },
  {
   "cell_type": "code",
   "execution_count": null,
   "id": "6a7246eb-0f84-4609-9156-fc2208a2947b",
   "metadata": {},
   "outputs": [],
   "source": [
    "a=\"merhaba\"\n",
    "print(a.upper())"
   ]
  },
  {
   "cell_type": "code",
   "execution_count": null,
   "id": "8cdd4461-9cd1-4626-8ec3-034b63723d18",
   "metadata": {},
   "outputs": [],
   "source": [
    "b=\"   boşluk  ve  boşluk  \"\n",
    "print(b.strip())"
   ]
  },
  {
   "cell_type": "code",
   "execution_count": null,
   "id": "4ca5ef3a-90c3-4793-89c5-c95adaa63d6f",
   "metadata": {},
   "outputs": [],
   "source": [
    "b=\"   boşluk  ve  boşluk  \"\n",
    "print(b)"
   ]
  },
  {
   "cell_type": "code",
   "execution_count": null,
   "id": "c0c6ca38-d42d-4698-bae6-a60de1cad1ba",
   "metadata": {},
   "outputs": [],
   "source": [
    "f=\"iper\"\n",
    "print(f.replace(\"ip\",\"Öm\"))"
   ]
  },
  {
   "cell_type": "code",
   "execution_count": null,
   "id": "9b1dc2eb-aa79-4c34-abf3-3802571678ec",
   "metadata": {},
   "outputs": [],
   "source": [
    "yaşım=21\n",
    "adım=\"Ömer\"\n",
    "hakkımda=\"Merhaba benim adım {0} ve yaşım {1}\"\n",
    "print(hakkımda.format(adım,yaşım))"
   ]
  },
  {
   "cell_type": "code",
   "execution_count": null,
   "id": "5c3ff062-7190-40a4-bf9f-a5f12484c57e",
   "metadata": {},
   "outputs": [],
   "source": [
    "m=\"ömer\"\n",
    "print(isinstance(m,str))"
   ]
  },
  {
   "cell_type": "code",
   "execution_count": null,
   "id": "54390ad4-3005-4c45-a386-2b6c97a9cd32",
   "metadata": {},
   "outputs": [],
   "source": [
    "mylist=[\"a\",\"b\",\"c\"]\n",
    "print(mylist)"
   ]
  },
  {
   "cell_type": "code",
   "execution_count": null,
   "id": "1aecbc1d-f03e-48aa-b550-b9276f9df385",
   "metadata": {},
   "outputs": [],
   "source": [
    "\"\"\"\n",
    "Listenin içindeki öğeleri kontrol ettim .\n",
    "Eğer içlerinde \"ömer\" varsa print ile yazmasını\n",
    "yoksa \"ömer\"'i\n",
    "ekleyip yazmasını sağladım\n",
    "\"\"\"\n",
    "mylist=[\"er\",\"mer\",\"öer\",\"öme\"]\n",
    "if \"ömer\" in mylist:\n",
    "    print(mylist)\n",
    "else:\n",
    "    mylist[2]=\"ömer\"\n",
    "    print(mylist)"
   ]
  },
  {
   "cell_type": "code",
   "execution_count": null,
   "id": "f1a1d806-d0a8-4af1-983f-d9a268a86af0",
   "metadata": {},
   "outputs": [],
   "source": [
    "thislist=[\"a\",\"b\",\"c\"]\n",
    "adifferentlist=[\"d\",\"e\"]\n",
    "thislist.extend(adifferentlist)\n",
    "print(thislist)"
   ]
  },
  {
   "cell_type": "code",
   "execution_count": null,
   "id": "f6c3fe5e-a6a3-4af9-a9c9-51e752ffd386",
   "metadata": {},
   "outputs": [],
   "source": [
    "mylist=[\"öm\",\"er\",\"öme\",\"mer\",\"öe\",\"r\"]\n",
    "if\"öm\" and \"er\" and \"mer\" and \"öe\" in mylist:\n",
    "    mylist.remove(\"öm\")\n",
    "    mylist.remove(\"er\")\n",
    "    mylist.remove(\"mer\")\n",
    "    mylist.remove(\"öe\")\n",
    "    birlestirilmis=\"\".join(mylist)\n",
    "    print(birlestirilmis)\n",
    "else:\n",
    "    print(\"Bu öğeler bulunmamakta\")\n"
   ]
  },
  {
   "cell_type": "code",
   "execution_count": null,
   "id": "65f28480-21bd-4637-9f06-de4cc536418d",
   "metadata": {},
   "outputs": [],
   "source": [
    "mylist=[\"öm\",\"er\",\"öme\",\"mer\",\"öe\",\"r\"]"
   ]
  },
  {
   "cell_type": "code",
   "execution_count": null,
   "id": "46758aee-15fd-441d-9ddf-6adc232f365e",
   "metadata": {},
   "outputs": [],
   "source": [
    "mylist = [\"öm\", \"er\", \"öme\", \"mer\", \"öe\", \"r\"]\n",
    "elements_to_check = [\"öm\", \"er\", \"mer\", \"öe\"]\n",
    "\n",
    "if all(elem in mylist for elem in elements_to_check):\n",
    "    for elem in elements_to_check:\n",
    "        mylist.remove(elem)\n",
    "    \n",
    "    birlestirilmis = \"\".join(mylist)\n",
    "    print(birlestirilmis)\n",
    "else:\n",
    "    mylist = [item for item in mylist if item not in elements_to_check]\n",
    "    birlestirilmis = \"\".join(mylist)\n",
    "    print(birlestirilmis)"
   ]
  },
  {
   "cell_type": "code",
   "execution_count": null,
   "id": "bba65fd0-3d69-4cbb-bc0d-c5ae67c5cb9d",
   "metadata": {},
   "outputs": [],
   "source": [
    "thislist=[\"a\",\"b\",\"c\"]\n",
    "del thislist[0]\n",
    "print(thislist)"
   ]
  },
  {
   "cell_type": "code",
   "execution_count": null,
   "id": "01576563-1343-4087-9470-06de6df94ef0",
   "metadata": {},
   "outputs": [],
   "source": [
    "thislist=[\"a\",\"b\",\"c\"]\n",
    "thislist.pop(2)\n",
    "print(thislist)"
   ]
  },
  {
   "cell_type": "code",
   "execution_count": null,
   "id": "d61511b6-aefe-44a6-8ed9-340ef7cd43cd",
   "metadata": {},
   "outputs": [],
   "source": [
    "backup_list=[\"ömer\",\"hüseyin\",\"hasan\"]\n",
    "e=0\n",
    "while e<len(backup_list):\n",
    " print(backup_list[e])\n",
    " e+=1"
   ]
  },
  {
   "cell_type": "code",
   "execution_count": 6,
   "id": "44d44326-dc95-437a-943f-d153cbc34a99",
   "metadata": {},
   "outputs": [
    {
     "name": "stdout",
     "output_type": "stream",
     "text": [
      "Aradığın harfler mallesef mey listesinde bulunmuyor\n"
     ]
    }
   ],
   "source": [
    "karısık=[\"ekşi\",\"erik\",\"biber\",\"elma\",\"sot\"]\n",
    "mey=[]\n",
    "\n",
    "if \"e\"in karısık or \"i\" in karısık :\n",
    "   print(karısık)\n",
    "else:\n",
    "     print(\"Aradığın harfler mallesef mey listesinde bulunmuyor\")\n",
    "        "
   ]
  },
  {
   "cell_type": "code",
   "execution_count": 7,
   "id": "b913cbe6-95b4-45f6-8a4c-d9d4dbc71fd1",
   "metadata": {},
   "outputs": [
    {
     "name": "stdout",
     "output_type": "stream",
     "text": [
      "Karışık listesinde 'e' veya 'i' harfi içeren öğeler:\n",
      "['ekşi', 'erik', 'biber', 'elma']\n"
     ]
    }
   ],
   "source": [
    "karisik = [\"ekşi\", \"erik\", \"biber\", \"elma\", \"sot\"]\n",
    "mey = []\n",
    "\n",
    "for y in karisik:\n",
    "    if \"e\" in y or \"i\" in y:\n",
    "        mey.append(y)\n",
    "\n",
    "if mey:\n",
    "    print(\"Karışık listesinde 'e' veya 'i' harfi içeren öğeler:\")\n",
    "    print(mey)\n",
    "else:\n",
    "    print(\"Aradığın harfler maalesef karışık listesinde bulunmuyor\")"
   ]
  },
  {
   "cell_type": "code",
   "execution_count": 14,
   "id": "8298157a-032b-4499-92fe-a2b564d661ce",
   "metadata": {},
   "outputs": [
    {
     "name": "stdout",
     "output_type": "stream",
     "text": [
      "[1.6666666666666667, 3.0, 4.333333333333333, 5.666666666666667, 7.0]\n"
     ]
    }
   ],
   "source": [
    "sayılar=[1,2,3,4,5,6,7,8,9,10]\n",
    "tek_sayılar=[(m*2+3)/3 for m in sayılar if m%2==1]\n",
    "print(tek_sayılar)"
   ]
  },
  {
   "cell_type": "code",
   "execution_count": null,
   "id": "21a5189d-d35a-41f8-b44b-20f6042efb4d",
   "metadata": {},
   "outputs": [],
   "source": []
  }
 ],
 "metadata": {
  "kernelspec": {
   "display_name": "Python 3 (ipykernel)",
   "language": "python",
   "name": "python3"
  },
  "language_info": {
   "codemirror_mode": {
    "name": "ipython",
    "version": 3
   },
   "file_extension": ".py",
   "mimetype": "text/x-python",
   "name": "python",
   "nbconvert_exporter": "python",
   "pygments_lexer": "ipython3",
   "version": "3.11.4"
  }
 },
 "nbformat": 4,
 "nbformat_minor": 5
}
